{
 "cells": [
  {
   "cell_type": "markdown",
   "id": "0b1533e7-2d04-4ce3-9bca-a21aa377f180",
   "metadata": {},
   "source": [
    "# Biological interpretation"
   ]
  },
  {
   "cell_type": "code",
   "execution_count": null,
   "id": "8c1a342a-e10a-46f8-9c96-67b810b1c988",
   "metadata": {},
   "outputs": [],
   "source": []
  }
 ],
 "metadata": {
  "kernelspec": {
   "display_name": "R",
   "language": "R",
   "name": "ir"
  },
  "language_info": {
   "codemirror_mode": "r",
   "file_extension": ".r",
   "mimetype": "text/x-r-source",
   "name": "R",
   "pygments_lexer": "r",
   "version": "4.2.2"
  }
 },
 "nbformat": 4,
 "nbformat_minor": 5
}
