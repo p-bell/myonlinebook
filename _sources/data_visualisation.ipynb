{
 "cells": [
  {
   "cell_type": "markdown",
   "id": "0b1533e7-2d04-4ce3-9bca-a21aa377f180",
   "metadata": {},
   "source": [
    "Script to take output from data_import_process.ipynb, and generate annotated volcano plots\n",
    "of semi-tryptic peptides significantly upregulated in proteins not significantly upregulated "
   ]
  }
 ],
 "metadata": {
  "kernelspec": {
   "display_name": "R",
   "language": "R",
   "name": "ir"
  },
  "language_info": {
   "codemirror_mode": "r",
   "file_extension": ".r",
   "mimetype": "text/x-r-source",
   "name": "R",
   "pygments_lexer": "r",
   "version": "4.2.2"
  }
 },
 "nbformat": 4,
 "nbformat_minor": 5
}
