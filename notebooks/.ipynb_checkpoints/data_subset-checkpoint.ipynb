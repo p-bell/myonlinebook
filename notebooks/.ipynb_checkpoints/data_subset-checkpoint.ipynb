{
 "cells": [
  {
   "cell_type": "markdown",
   "id": "0b1533e7-2d04-4ce3-9bca-a21aa377f180",
   "metadata": {},
   "source": [
    "# Filtering of peptides"
   ]
  },
  {
   "cell_type": "markdown",
   "id": "6fb1ea74-90c5-4cdc-a93e-e8b95fb7dd93",
   "metadata": {},
   "source": [
    "### Unlocking biological significance from the data"
   ]
  },
  {
   "cell_type": "markdown",
   "id": "68580772-cf5c-4803-856c-954d15a0b646",
   "metadata": {},
   "source": [
    "In the previous "
   ]
  }
 ],
 "metadata": {
  "kernelspec": {
   "display_name": "R",
   "language": "R",
   "name": "ir"
  },
  "language_info": {
   "codemirror_mode": "r",
   "file_extension": ".r",
   "mimetype": "text/x-r-source",
   "name": "R",
   "pygments_lexer": "r",
   "version": "4.2.2"
  }
 },
 "nbformat": 4,
 "nbformat_minor": 5
}
